{
  "nbformat": 4,
  "nbformat_minor": 0,
  "metadata": {
    "colab": {
      "provenance": [],
      "authorship_tag": "ABX9TyO7D4iw04H/rtVtG4MjPsRx",
      "include_colab_link": true
    },
    "kernelspec": {
      "name": "python3",
      "display_name": "Python 3"
    },
    "language_info": {
      "name": "python"
    }
  },
  "cells": [
    {
      "cell_type": "markdown",
      "metadata": {
        "id": "view-in-github",
        "colab_type": "text"
      },
      "source": [
        "<a href=\"https://colab.research.google.com/github/OladotunOlanipekun/Discrete-Mathematics/blob/main/OlanipekunOladotun_CPSMA_3913_01_Module2_Functions_Relations.ipynb\" target=\"_parent\"><img src=\"https://colab.research.google.com/assets/colab-badge.svg\" alt=\"Open In Colab\"/></a>"
      ]
    },
    {
      "cell_type": "markdown",
      "source": [],
      "metadata": {
        "id": "TPnmmGSYy-LJ"
      }
    },
    {
      "cell_type": "markdown",
      "source": [
        "# Project Part #2: CPSMA 3913 Dr. Lynam's Discrete Mathematics\n",
        "## Project Module 2: Functions and Relations\n",
        "Oladotun Olanipekun 271479"
      ],
      "metadata": {
        "id": "9jK7cp9MQvBx"
      }
    },
    {
      "cell_type": "markdown",
      "source": [
        "#Define a Function"
      ],
      "metadata": {
        "id": "VTodotR3znGI"
      }
    },
    {
      "cell_type": "markdown",
      "source": [
        "The function i will be using is a random one that I have created with three features \n",
        "\n",
        "$$f(x)=2x^2+4x+2$$\n",
        "\n",
        "The three different features are $2x^2$ which is a porabola and $4x$ moves the graph up and down, and $2$ which is the y-intercept"
      ],
      "metadata": {
        "id": "hi1Tw4KFTkUf"
      }
    },
    {
      "cell_type": "code",
      "source": [
        "import math\n",
        "import numpy as np\n",
        "import matplotlib.pyplot as plt"
      ],
      "metadata": {
        "id": "2Yv64zdjyK82"
      },
      "execution_count": null,
      "outputs": []
    },
    {
      "cell_type": "code",
      "source": [
        "def Tunefunction(x):\n",
        "   return(2*x**2+4*x+2)"
      ],
      "metadata": {
        "id": "vMHQ5HoGyTSb"
      },
      "execution_count": null,
      "outputs": []
    },
    {
      "cell_type": "markdown",
      "source": [
        "Now I will test my function by putting 0 as my x"
      ],
      "metadata": {
        "id": "DTeCEvZlzHrO"
      }
    },
    {
      "cell_type": "code",
      "source": [
        "Tunefunction(0)"
      ],
      "metadata": {
        "colab": {
          "base_uri": "https://localhost:8080/"
        },
        "id": "G5HcGEnLzOe-",
        "outputId": "1f77e273-592e-4c6d-ddaa-ef9f6a40e48a"
      },
      "execution_count": null,
      "outputs": [
        {
          "output_type": "execute_result",
          "data": {
            "text/plain": [
              "2"
            ]
          },
          "metadata": {},
          "execution_count": 5
        }
      ]
    },
    {
      "cell_type": "markdown",
      "source": [
        "This is the correct answer i was looking for"
      ],
      "metadata": {
        "id": "IfM_P36VzZJg"
      }
    },
    {
      "cell_type": "markdown",
      "source": [
        "#Graph the Function"
      ],
      "metadata": {
        "id": "_IhtxUx8zy12"
      }
    },
    {
      "cell_type": "markdown",
      "source": [
        "As I stated in the begining of my project, $2x^2$ should give a porbola and $4x$ shifts the graph up and down, and the 2 should be the y-intercept"
      ],
      "metadata": {
        "id": "ZH2dKXOWz8mp"
      }
    },
    {
      "cell_type": "markdown",
      "source": [
        "I played around with the graph and changed the range to make the graph look good and centered"
      ],
      "metadata": {
        "id": "1rY9FzCw2GgA"
      }
    },
    {
      "cell_type": "code",
      "source": [
        "x = np.arange(-4,2,.1)\n",
        "\n",
        "plt.plot(x,Tunefunction(x))"
      ],
      "metadata": {
        "colab": {
          "base_uri": "https://localhost:8080/",
          "height": 283
        },
        "id": "9UUlhhBT00iC",
        "outputId": "98f6e53e-4e6a-413a-e111-c45147c06fdf"
      },
      "execution_count": null,
      "outputs": [
        {
          "output_type": "execute_result",
          "data": {
            "text/plain": [
              "[<matplotlib.lines.Line2D at 0x7f2d5c716d60>]"
            ]
          },
          "metadata": {},
          "execution_count": 12
        },
        {
          "output_type": "display_data",
          "data": {
            "text/plain": [
              "<Figure size 432x288 with 1 Axes>"
            ],
            "image/png": "[encoded data removed]"
          },
          "metadata": {
            "needs_background": "light"
          }
        }
      ]
    },
    {
      "cell_type": "markdown",
      "source": [
        "This function dose not look like it is a one-to-one(injective). I aslo is not onto(surjective) because not all the $y-values$ go with $x-values$. Because it is not a a one-to-one or an onto it can also not be bijective."
      ],
      "metadata": {
        "id": "_Z5BitNg2Mal"
      }
    },
    {
      "cell_type": "markdown",
      "source": [
        "#Define a Dictionary"
      ],
      "metadata": {
        "id": "11z1EzH03Q3D"
      }
    },
    {
      "cell_type": "markdown",
      "source": [
        "I will build a dictionary using the same sets that i made in the first project"
      ],
      "metadata": {
        "id": "691JalbL3nVw"
      }
    },
    {
      "cell_type": "code",
      "source": [
        "A={'luffy', 'zoro', 'sanji', 'brook', 'nami', 'robin', 'franky', 'ussop'}\n",
        "B={'roger', 'rayleigh', 'bullet', 'crocus', 'sunbell', 'taro', 'yui', 'oden'}\n",
        "\n",
        "dictionary = dict({a:b for a,b in zip(A, B)})"
      ],
      "metadata": {
        "id": "WmrkQ-Em4A1B"
      },
      "execution_count": null,
      "outputs": []
    },
    {
      "cell_type": "code",
      "source": [
        "dictionary"
      ],
      "metadata": {
        "colab": {
          "base_uri": "https://localhost:8080/"
        },
        "id": "sbSlhJVw4h-j",
        "outputId": "cfeb2fbf-1828-42d8-e53a-75aa7ffa1b36"
      },
      "execution_count": null,
      "outputs": [
        {
          "output_type": "execute_result",
          "data": {
            "text/plain": [
              "{'sanji': 'roger',\n",
              " 'luffy': 'oden',\n",
              " 'nami': 'yui',\n",
              " 'brook': 'crocus',\n",
              " 'ussop': 'rayleigh',\n",
              " 'zoro': 'sunbell',\n",
              " 'robin': 'taro',\n",
              " 'franky': 'bullet'}"
            ]
          },
          "metadata": {},
          "execution_count": 14
        }
      ]
    },
    {
      "cell_type": "markdown",
      "source": [
        "The dictionary function above can be considered bijective since each element in $B$ is linked to one element in $A$. It can also be injective since each element in $A$ is linked to one element in $B$ making it one-to-one. It can also be surjective, or onto, since every element in $B$ is linked to an element in $A$."
      ],
      "metadata": {
        "id": "P41ugOLG4zFD"
      }
    },
    {
      "cell_type": "markdown",
      "source": [
        "#Apply Dictionary to Small Set"
      ],
      "metadata": {
        "id": "EUkvfxg05lwe"
      }
    },
    {
      "cell_type": "markdown",
      "source": [
        "I am not 100% sure what this part will do"
      ],
      "metadata": {
        "id": "9KpiIH507rG9"
      }
    },
    {
      "cell_type": "code",
      "source": [
        "dictionary = dict({'luffy':'roger','zoro':'rayleigh', 'sanji':'bullet', 'brook': 'crocus'})"
      ],
      "metadata": {
        "id": "CVPnxuDj562E"
      },
      "execution_count": null,
      "outputs": []
    },
    {
      "cell_type": "code",
      "source": [
        "smallset=[dictionary.get(x,x) for x in A] "
      ],
      "metadata": {
        "id": "UNIIqWTz6Ri0"
      },
      "execution_count": null,
      "outputs": []
    },
    {
      "cell_type": "code",
      "source": [
        "smallset"
      ],
      "metadata": {
        "colab": {
          "base_uri": "https://localhost:8080/"
        },
        "id": "fhhlDAdP7Hf9",
        "outputId": "c425b594-fbc0-4f77-d6ef-600a651ddc41"
      },
      "execution_count": null,
      "outputs": [
        {
          "output_type": "execute_result",
          "data": {
            "text/plain": [
              "['bullet', 'roger', 'nami', 'crocus', 'ussop', 'rayleigh', 'robin', 'franky']"
            ]
          },
          "metadata": {},
          "execution_count": 22
        }
      ]
    },
    {
      "cell_type": "markdown",
      "source": [
        "It generated differnt names, some that were in the $smallset$ and some that were from the other set, im not sure how it cam up with these but oh well"
      ],
      "metadata": {
        "id": "TgEuzXU_7wmk"
      }
    },
    {
      "cell_type": "markdown",
      "source": [
        "My sets are neither reflexive $(a,a)$, symmetric $(a,b)(b,a)$, or transitive $(a,b)(b,c)(a,c)$. It can not be a equivalence relation. It dose look like it can be antisymmetric though, since there is no instance of $({x,y}),({y,x})$, but there is $(x,y)$ relationship. "
      ],
      "metadata": {
        "id": "aRvO5zg18ITY"
      }
    }
  ]
}