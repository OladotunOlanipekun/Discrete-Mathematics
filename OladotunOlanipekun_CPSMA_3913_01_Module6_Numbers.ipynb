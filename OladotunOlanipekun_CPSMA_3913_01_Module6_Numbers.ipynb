{
  "nbformat": 4,
  "nbformat_minor": 0,
  "metadata": {
    "colab": {
      "provenance": [],
      "authorship_tag": "ABX9TyOQX5xqJVFMboGEBFnbVbcy",
      "include_colab_link": true
    },
    "kernelspec": {
      "name": "python3",
      "display_name": "Python 3"
    },
    "language_info": {
      "name": "python"
    }
  },
  "cells": [
    {
      "cell_type": "markdown",
      "metadata": {
        "id": "view-in-github",
        "colab_type": "text"
      },
      "source": [
        "<a href=\"https://colab.research.google.com/github/OladotunOlanipekun/Discrete-Mathematics/blob/main/OladotunOlanipekun_CPSMA_3913_01_Module6_Numbers.ipynb\" target=\"_parent\"><img src=\"https://colab.research.google.com/assets/colab-badge.svg\" alt=\"Open In Colab\"/></a>"
      ]
    },
    {
      "cell_type": "markdown",
      "source": [
        "# Project Part # 6: CPSMA 3913 Dr. Lynam's Discrete Mathematics\n",
        "\n",
        "## Project Module 6: Numbers\n",
        "\n",
        "### Oladotun Olanipekun 271479 "
      ],
      "metadata": {
        "id": "uEBGR8ZejwzV"
      }
    },
    {
      "cell_type": "markdown",
      "source": [
        "## 1. Compute using modulo arithmetic\n",
        "\n",
        "a)Convert the number  $24036_7$ into base ten. "
      ],
      "metadata": {
        "id": "ZErpiRqGkcQW"
      }
    },
    {
      "cell_type": "markdown",
      "source": [
        "you can convert the following $24036_7$ to base 10 mathimatically by doing the following:\n",
        "\n",
        "$(2*7^4)+(4*7^3)+(0*7^2)+(3*7^1)+(6*7^0)=6201$\n",
        "\n",
        "or by coding it:"
      ],
      "metadata": {
        "id": "yT3HAeuFkeCv"
      }
    },
    {
      "cell_type": "code",
      "execution_count": 1,
      "metadata": {
        "colab": {
          "base_uri": "https://localhost:8080/"
        },
        "id": "L5UL-wVBiq3n",
        "outputId": "7c56bc38-e37e-46e5-b580-98d8b3ebbd2b"
      },
      "outputs": [
        {
          "output_type": "execute_result",
          "data": {
            "text/plain": [
              "6201"
            ]
          },
          "metadata": {},
          "execution_count": 1
        }
      ],
      "source": [
        "int('24036',7)"
      ]
    },
    {
      "cell_type": "markdown",
      "source": [
        "b) Convert the hexadecimal number 72e3 or 0x72e3 into base ten.  "
      ],
      "metadata": {
        "id": "iKz3DMo0mOKh"
      }
    },
    {
      "cell_type": "markdown",
      "source": [
        "You can convert 72e3 mathimatically the same way we did the other one:\n",
        "\n",
        "$(7*16^3)+(2*16^2)+(14*16^1)+(3*16^0)=29411$\n",
        "\n",
        "and by coding:"
      ],
      "metadata": {
        "id": "EZa-J2H2mcXr"
      }
    },
    {
      "cell_type": "code",
      "source": [
        "int('0x72e3',16)"
      ],
      "metadata": {
        "colab": {
          "base_uri": "https://localhost:8080/"
        },
        "id": "Cxm3q18Jm_6G",
        "outputId": "762d441c-9912-48ca-ad56-81926d3cc8eb"
      },
      "execution_count": 2,
      "outputs": [
        {
          "output_type": "execute_result",
          "data": {
            "text/plain": [
              "29411"
            ]
          },
          "metadata": {},
          "execution_count": 2
        }
      ]
    },
    {
      "cell_type": "markdown",
      "source": [
        "c) Convert 3735928559 into hexadecimal. "
      ],
      "metadata": {
        "id": "Ue4CbMCKnFbk"
      }
    },
    {
      "cell_type": "markdown",
      "source": [
        "In hexadecimal $a=10, b=11,c=12,d=13,e=14,f=15$."
      ],
      "metadata": {
        "id": "xyC8U9u0oQXW"
      }
    },
    {
      "cell_type": "code",
      "source": [
        "from math import floor\n",
        "print(3735928559%16)\n",
        "floor(3735928559/16)"
      ],
      "metadata": {
        "colab": {
          "base_uri": "https://localhost:8080/"
        },
        "id": "xjefIJDqoNWm",
        "outputId": "b5a3110a-4312-4c24-a87b-34ef81145258"
      },
      "execution_count": 3,
      "outputs": [
        {
          "output_type": "stream",
          "name": "stdout",
          "text": [
            "15\n"
          ]
        },
        {
          "output_type": "execute_result",
          "data": {
            "text/plain": [
              "233495534"
            ]
          },
          "metadata": {},
          "execution_count": 3
        }
      ]
    },
    {
      "cell_type": "code",
      "source": [
        "from math import floor\n",
        "print(233495534%16)\n",
        "floor(233495534/16)"
      ],
      "metadata": {
        "colab": {
          "base_uri": "https://localhost:8080/"
        },
        "id": "nn1QcZa-ohf7",
        "outputId": "53da3762-533b-4274-b07e-c0fe57647010"
      },
      "execution_count": 4,
      "outputs": [
        {
          "output_type": "stream",
          "name": "stdout",
          "text": [
            "14\n"
          ]
        },
        {
          "output_type": "execute_result",
          "data": {
            "text/plain": [
              "14593470"
            ]
          },
          "metadata": {},
          "execution_count": 4
        }
      ]
    },
    {
      "cell_type": "code",
      "source": [
        "from math import floor\n",
        "print(14593470%16)\n",
        "floor(14593470/16)"
      ],
      "metadata": {
        "colab": {
          "base_uri": "https://localhost:8080/"
        },
        "id": "_d5vRWsXolKa",
        "outputId": "03e336f9-5309-44d5-bbc0-c721c4fa3033"
      },
      "execution_count": 5,
      "outputs": [
        {
          "output_type": "stream",
          "name": "stdout",
          "text": [
            "14\n"
          ]
        },
        {
          "output_type": "execute_result",
          "data": {
            "text/plain": [
              "912091"
            ]
          },
          "metadata": {},
          "execution_count": 5
        }
      ]
    },
    {
      "cell_type": "code",
      "source": [
        "from math import floor\n",
        "print(912091%16)\n",
        "floor(912091/16)"
      ],
      "metadata": {
        "colab": {
          "base_uri": "https://localhost:8080/"
        },
        "id": "rXNR5e7Topm1",
        "outputId": "b48b0596-5a0b-4fcd-df5b-9564a9051aa2"
      },
      "execution_count": 6,
      "outputs": [
        {
          "output_type": "stream",
          "name": "stdout",
          "text": [
            "11\n"
          ]
        },
        {
          "output_type": "execute_result",
          "data": {
            "text/plain": [
              "57005"
            ]
          },
          "metadata": {},
          "execution_count": 6
        }
      ]
    },
    {
      "cell_type": "code",
      "source": [
        "from math import floor\n",
        "print(57005%16)\n",
        "floor(57005/16)"
      ],
      "metadata": {
        "colab": {
          "base_uri": "https://localhost:8080/"
        },
        "id": "0ObXleR6otDL",
        "outputId": "be453dde-a3a4-48f3-fc91-f0bfca02e404"
      },
      "execution_count": 7,
      "outputs": [
        {
          "output_type": "stream",
          "name": "stdout",
          "text": [
            "13\n"
          ]
        },
        {
          "output_type": "execute_result",
          "data": {
            "text/plain": [
              "3562"
            ]
          },
          "metadata": {},
          "execution_count": 7
        }
      ]
    },
    {
      "cell_type": "code",
      "source": [
        "from math import floor\n",
        "print(3562%16)\n",
        "floor(3562/16)"
      ],
      "metadata": {
        "colab": {
          "base_uri": "https://localhost:8080/"
        },
        "id": "dvalikljowob",
        "outputId": "b7cd634a-796a-466d-a949-8238ac33ea6f"
      },
      "execution_count": 8,
      "outputs": [
        {
          "output_type": "stream",
          "name": "stdout",
          "text": [
            "10\n"
          ]
        },
        {
          "output_type": "execute_result",
          "data": {
            "text/plain": [
              "222"
            ]
          },
          "metadata": {},
          "execution_count": 8
        }
      ]
    },
    {
      "cell_type": "code",
      "source": [
        "from math import floor\n",
        "print(222%16)\n",
        "floor(222/16)"
      ],
      "metadata": {
        "colab": {
          "base_uri": "https://localhost:8080/"
        },
        "id": "L3bpyEuLo0JA",
        "outputId": "2e96dc01-666f-4639-c0b5-f54ae853abd8"
      },
      "execution_count": 9,
      "outputs": [
        {
          "output_type": "stream",
          "name": "stdout",
          "text": [
            "14\n"
          ]
        },
        {
          "output_type": "execute_result",
          "data": {
            "text/plain": [
              "13"
            ]
          },
          "metadata": {},
          "execution_count": 9
        }
      ]
    },
    {
      "cell_type": "code",
      "source": [
        "from math import floor\n",
        "print(13%16)\n",
        "floor(13/16)"
      ],
      "metadata": {
        "colab": {
          "base_uri": "https://localhost:8080/"
        },
        "id": "HaJ6_XkMo3ql",
        "outputId": "b01ce3c1-9e07-45e3-d7c0-b30ff78bd210"
      },
      "execution_count": 10,
      "outputs": [
        {
          "output_type": "stream",
          "name": "stdout",
          "text": [
            "13\n"
          ]
        },
        {
          "output_type": "execute_result",
          "data": {
            "text/plain": [
              "0"
            ]
          },
          "metadata": {},
          "execution_count": 10
        }
      ]
    },
    {
      "cell_type": "markdown",
      "source": [
        "It ends up spelling deadbeef\n",
        "\n",
        "Lets check it to see if this is right"
      ],
      "metadata": {
        "id": "RSCAgHMAo77I"
      }
    },
    {
      "cell_type": "code",
      "source": [
        "hex(3735928559)"
      ],
      "metadata": {
        "colab": {
          "base_uri": "https://localhost:8080/",
          "height": 35
        },
        "id": "jbCosMVDpYsc",
        "outputId": "9055baee-e402-49da-bf60-45cc1793bb65"
      },
      "execution_count": 11,
      "outputs": [
        {
          "output_type": "execute_result",
          "data": {
            "text/plain": [
              "'0xdeadbeef'"
            ],
            "application/vnd.google.colaboratory.intrinsic+json": {
              "type": "string"
            }
          },
          "metadata": {},
          "execution_count": 11
        }
      ]
    },
    {
      "cell_type": "markdown",
      "source": [
        "d) Using two's complement perform the base ten subtraction 25-37."
      ],
      "metadata": {
        "id": "Z0OsKv59pdm3"
      }
    },
    {
      "cell_type": "markdown",
      "source": [
        "25 into binary"
      ],
      "metadata": {
        "id": "M4MWgK5AppXf"
      }
    },
    {
      "cell_type": "code",
      "source": [
        "bin(25)"
      ],
      "metadata": {
        "colab": {
          "base_uri": "https://localhost:8080/",
          "height": 35
        },
        "id": "usE0X7Z0pvk8",
        "outputId": "ecc6b77e-8776-40f7-e625-6a8b909538f5"
      },
      "execution_count": 12,
      "outputs": [
        {
          "output_type": "execute_result",
          "data": {
            "text/plain": [
              "'0b11001'"
            ],
            "application/vnd.google.colaboratory.intrinsic+json": {
              "type": "string"
            }
          },
          "metadata": {},
          "execution_count": 12
        }
      ]
    },
    {
      "cell_type": "markdown",
      "source": [
        "37 into binary"
      ],
      "metadata": {
        "id": "LesOMbNap1Aj"
      }
    },
    {
      "cell_type": "code",
      "source": [
        "bin(-37)"
      ],
      "metadata": {
        "colab": {
          "base_uri": "https://localhost:8080/",
          "height": 35
        },
        "id": "CA9iQMmap5Pv",
        "outputId": "66ba0328-bd8b-4607-b648-da8c5e1f24bc"
      },
      "execution_count": 14,
      "outputs": [
        {
          "output_type": "execute_result",
          "data": {
            "text/plain": [
              "'-0b100101'"
            ],
            "application/vnd.google.colaboratory.intrinsic+json": {
              "type": "string"
            }
          },
          "metadata": {},
          "execution_count": 14
        }
      ]
    },
    {
      "cell_type": "markdown",
      "source": [
        "= 11011011\n",
        "\n",
        "0011001 + 11011011 = 11110100"
      ],
      "metadata": {
        "id": "MfYzz3wFp9Gn"
      }
    },
    {
      "cell_type": "markdown",
      "source": [
        "It is a negitive number because 25-37 is negitive, so you would put the negitive sign in front of thr number."
      ],
      "metadata": {
        "id": "bEdpuCVhqtpl"
      }
    },
    {
      "cell_type": "code",
      "source": [
        "int(-0b00001100)"
      ],
      "metadata": {
        "colab": {
          "base_uri": "https://localhost:8080/"
        },
        "id": "wz0NdkeRqnJL",
        "outputId": "ace3c8b7-f8cf-4196-c172-722a240a04b5"
      },
      "execution_count": 15,
      "outputs": [
        {
          "output_type": "execute_result",
          "data": {
            "text/plain": [
              "-12"
            ]
          },
          "metadata": {},
          "execution_count": 15
        }
      ]
    },
    {
      "cell_type": "markdown",
      "source": [
        "Computers use binary and hexadecimal. Binary allows computers to know true or faulse, on or off, etc. and hexadecimal shrinks large binary numbers.\n",
        "\n"
      ],
      "metadata": {
        "id": "PHKyUTJNrMUu"
      }
    }
  ]
}