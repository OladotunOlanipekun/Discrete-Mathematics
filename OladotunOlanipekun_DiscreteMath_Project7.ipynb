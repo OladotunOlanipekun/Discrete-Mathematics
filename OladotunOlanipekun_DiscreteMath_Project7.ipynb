{
  "nbformat": 4,
  "nbformat_minor": 0,
  "metadata": {
    "colab": {
      "provenance": [],
      "authorship_tag": "ABX9TyMfAwyMRdig0rvTCtErhi8q",
      "include_colab_link": true
    },
    "kernelspec": {
      "name": "python3",
      "display_name": "Python 3"
    },
    "language_info": {
      "name": "python"
    }
  },
  "cells": [
    {
      "cell_type": "markdown",
      "metadata": {
        "id": "view-in-github",
        "colab_type": "text"
      },
      "source": [
        "<a href=\"https://colab.research.google.com/github/OladotunOlanipekun/Discrete-Mathematics/blob/main/OladotunOlanipekun_DiscreteMath_Project7.ipynb\" target=\"_parent\"><img src=\"https://colab.research.google.com/assets/colab-badge.svg\" alt=\"Open In Colab\"/></a>"
      ]
    },
    {
      "cell_type": "markdown",
      "source": [
        "# Project Part # 7 : CPSMA 3133 [Dr. Jacob's](https://github.com/nurfnick) Discrete Mathematics \n",
        "\n",
        "## Logic\n",
        "\n",
        "### Oladotun Olanipekun 271479"
      ],
      "metadata": {
        "id": "oawbYUIcCrzx"
      }
    },
    {
      "cell_type": "markdown",
      "source": [
        "Create a truth table\n",
        "\n",
        "(a) Create three propositions. I will describe them as p, r and q but you should use the name to describe the proposition! Discuss the truth value of each of these and decide on one that makes sense for you.\n",
        "\n",
        "(b) Compute the truth of the statement r ∧ p, r ∨ ¬q and r ⇒ p.\n",
        "\n",
        "(c) Compute a complete truth table for ¬ (r ⊕ p) ⇒ (p ∨ q)"
      ],
      "metadata": {
        "id": "zGddM3PIDIhK"
      }
    },
    {
      "cell_type": "code",
      "execution_count": 1,
      "metadata": {
        "id": "TWtvZuHEChv3"
      },
      "outputs": [],
      "source": [
        "WillGoToWork = True\n",
        "WillEatHealthy = False\n",
        "WillDoSchoolWork = True\n",
        "WillEatJunkFood = False\n",
        "WillCleanMyRoom = True\n",
        "WillWatchAnime = False"
      ]
    },
    {
      "cell_type": "markdown",
      "source": [
        "$$r \\land p$$\n",
        "\n",
        "$$r \\lor \\lnot q$$\n",
        "\n",
        "$$r \\Rightarrow p$$"
      ],
      "metadata": {
        "id": "QwRhKOmgE6Km"
      }
    },
    {
      "cell_type": "code",
      "source": [
        "(WillDoSchoolWork) and (WillGoToWork)"
      ],
      "metadata": {
        "colab": {
          "base_uri": "https://localhost:8080/"
        },
        "id": "W0Y08xRdFcxt",
        "outputId": "1a26f3a4-7499-496f-f49e-dad30304cc09"
      },
      "execution_count": 2,
      "outputs": [
        {
          "output_type": "execute_result",
          "data": {
            "text/plain": [
              "True"
            ]
          },
          "metadata": {},
          "execution_count": 2
        }
      ]
    },
    {
      "cell_type": "code",
      "source": [
        "(WillDoSchoolWork) or not(WillEatJunkFood)"
      ],
      "metadata": {
        "colab": {
          "base_uri": "https://localhost:8080/"
        },
        "id": "80OSbB5HFwdJ",
        "outputId": "1322309c-c345-42fc-bd52-1cce1f6f4412"
      },
      "execution_count": 3,
      "outputs": [
        {
          "output_type": "execute_result",
          "data": {
            "text/plain": [
              "True"
            ]
          },
          "metadata": {},
          "execution_count": 3
        }
      ]
    },
    {
      "cell_type": "code",
      "source": [
        "def implies(a,b):\n",
        "  return not(b) or a\n",
        "\n",
        "implies(WillDoSchoolWork,WillGoToWork)"
      ],
      "metadata": {
        "colab": {
          "base_uri": "https://localhost:8080/"
        },
        "id": "rfj0vsf8GEBC",
        "outputId": "e58936a4-cfb7-4f84-b8f4-7ee24f12153b"
      },
      "execution_count": 4,
      "outputs": [
        {
          "output_type": "execute_result",
          "data": {
            "text/plain": [
              "True"
            ]
          },
          "metadata": {},
          "execution_count": 4
        }
      ]
    },
    {
      "cell_type": "markdown",
      "source": [
        "Truth table\n",
        "\n",
        "$ \\lnot (r\\oplus p) \\Rightarrow (p \\lor q)$"
      ],
      "metadata": {
        "id": "uh9M6UBXE9Zi"
      }
    },
    {
      "cell_type": "code",
      "source": [
        "values = [True,False]\n",
        "table = []\n",
        "\n",
        "for r in values:\n",
        "  for p in values:\n",
        "    for q in values: \n",
        "      row =[]\n",
        "      row.append(r)\n",
        "      row.append(p)\n",
        "      row.append(q)\n",
        "      row.append(not(r))\n",
        "      row.append(not(r) and p)\n",
        "      row.append(q and p)\n",
        "      row.append(implies(not(r) and p,q and p))\n",
        "      table.append(row)"
      ],
      "metadata": {
        "id": "SDECZGBDGssQ"
      },
      "execution_count": 5,
      "outputs": []
    },
    {
      "cell_type": "code",
      "source": [
        "import pandas as pd\n",
        "\n",
        "df = pd.DataFrame(table,columns = ['r','p','q','$\\lnot r$','$\\lnot r \\lor p$',r'$q\\land p$',r'$\\left(\\lnot r \\lor p\\right) \\Rightarrow \\left(q \\land p\\right)$'] )\n",
        "df"
      ],
      "metadata": {
        "colab": {
          "base_uri": "https://localhost:8080/",
          "height": 300
        },
        "id": "s15qfkLqGzi0",
        "outputId": "46edad77-6811-4ef7-884a-ac5877723d33"
      },
      "execution_count": 6,
      "outputs": [
        {
          "output_type": "execute_result",
          "data": {
            "text/plain": [
              "       r      p      q  $\\lnot r$  $\\lnot r \\lor p$  $q\\land p$  \\\n",
              "0   True   True   True      False             False        True   \n",
              "1   True   True  False      False             False       False   \n",
              "2   True  False   True      False             False       False   \n",
              "3   True  False  False      False             False       False   \n",
              "4  False   True   True       True              True        True   \n",
              "5  False   True  False       True              True       False   \n",
              "6  False  False   True       True             False       False   \n",
              "7  False  False  False       True             False       False   \n",
              "\n",
              "   $\\left(\\lnot r \\lor p\\right) \\Rightarrow \\left(q \\land p\\right)$  \n",
              "0                                              False                 \n",
              "1                                               True                 \n",
              "2                                               True                 \n",
              "3                                               True                 \n",
              "4                                               True                 \n",
              "5                                               True                 \n",
              "6                                               True                 \n",
              "7                                               True                 "
            ],
            "text/html": [
              "\n",
              "  <div id=\"df-b0a98221-5c04-45a5-9748-4f43f9b77f4b\">\n",
              "    <div class=\"colab-df-container\">\n",
              "      <div>\n",
              "<style scoped>\n",
              "    .dataframe tbody tr th:only-of-type {\n",
              "        vertical-align: middle;\n",
              "    }\n",
              "\n",
              "    .dataframe tbody tr th {\n",
              "        vertical-align: top;\n",
              "    }\n",
              "\n",
              "    .dataframe thead th {\n",
              "        text-align: right;\n",
              "    }\n",
              "</style>\n",
              "<table border=\"1\" class=\"dataframe\">\n",
              "  <thead>\n",
              "    <tr style=\"text-align: right;\">\n",
              "      <th></th>\n",
              "      <th>r</th>\n",
              "      <th>p</th>\n",
              "      <th>q</th>\n",
              "      <th>$\\lnot r$</th>\n",
              "      <th>$\\lnot r \\lor p$</th>\n",
              "      <th>$q\\land p$</th>\n",
              "      <th>$\\left(\\lnot r \\lor p\\right) \\Rightarrow \\left(q \\land p\\right)$</th>\n",
              "    </tr>\n",
              "  </thead>\n",
              "  <tbody>\n",
              "    <tr>\n",
              "      <th>0</th>\n",
              "      <td>True</td>\n",
              "      <td>True</td>\n",
              "      <td>True</td>\n",
              "      <td>False</td>\n",
              "      <td>False</td>\n",
              "      <td>True</td>\n",
              "      <td>False</td>\n",
              "    </tr>\n",
              "    <tr>\n",
              "      <th>1</th>\n",
              "      <td>True</td>\n",
              "      <td>True</td>\n",
              "      <td>False</td>\n",
              "      <td>False</td>\n",
              "      <td>False</td>\n",
              "      <td>False</td>\n",
              "      <td>True</td>\n",
              "    </tr>\n",
              "    <tr>\n",
              "      <th>2</th>\n",
              "      <td>True</td>\n",
              "      <td>False</td>\n",
              "      <td>True</td>\n",
              "      <td>False</td>\n",
              "      <td>False</td>\n",
              "      <td>False</td>\n",
              "      <td>True</td>\n",
              "    </tr>\n",
              "    <tr>\n",
              "      <th>3</th>\n",
              "      <td>True</td>\n",
              "      <td>False</td>\n",
              "      <td>False</td>\n",
              "      <td>False</td>\n",
              "      <td>False</td>\n",
              "      <td>False</td>\n",
              "      <td>True</td>\n",
              "    </tr>\n",
              "    <tr>\n",
              "      <th>4</th>\n",
              "      <td>False</td>\n",
              "      <td>True</td>\n",
              "      <td>True</td>\n",
              "      <td>True</td>\n",
              "      <td>True</td>\n",
              "      <td>True</td>\n",
              "      <td>True</td>\n",
              "    </tr>\n",
              "    <tr>\n",
              "      <th>5</th>\n",
              "      <td>False</td>\n",
              "      <td>True</td>\n",
              "      <td>False</td>\n",
              "      <td>True</td>\n",
              "      <td>True</td>\n",
              "      <td>False</td>\n",
              "      <td>True</td>\n",
              "    </tr>\n",
              "    <tr>\n",
              "      <th>6</th>\n",
              "      <td>False</td>\n",
              "      <td>False</td>\n",
              "      <td>True</td>\n",
              "      <td>True</td>\n",
              "      <td>False</td>\n",
              "      <td>False</td>\n",
              "      <td>True</td>\n",
              "    </tr>\n",
              "    <tr>\n",
              "      <th>7</th>\n",
              "      <td>False</td>\n",
              "      <td>False</td>\n",
              "      <td>False</td>\n",
              "      <td>True</td>\n",
              "      <td>False</td>\n",
              "      <td>False</td>\n",
              "      <td>True</td>\n",
              "    </tr>\n",
              "  </tbody>\n",
              "</table>\n",
              "</div>\n",
              "      <button class=\"colab-df-convert\" onclick=\"convertToInteractive('df-b0a98221-5c04-45a5-9748-4f43f9b77f4b')\"\n",
              "              title=\"Convert this dataframe to an interactive table.\"\n",
              "              style=\"display:none;\">\n",
              "        \n",
              "  <svg xmlns=\"http://www.w3.org/2000/svg\" height=\"24px\"viewBox=\"0 0 24 24\"\n",
              "       width=\"24px\">\n",
              "    <path d=\"M0 0h24v24H0V0z\" fill=\"none\"/>\n",
              "    <path d=\"M18.56 5.44l.94 2.06.94-2.06 2.06-.94-2.06-.94-.94-2.06-.94 2.06-2.06.94zm-11 1L8.5 8.5l.94-2.06 2.06-.94-2.06-.94L8.5 2.5l-.94 2.06-2.06.94zm10 10l.94 2.06.94-2.06 2.06-.94-2.06-.94-.94-2.06-.94 2.06-2.06.94z\"/><path d=\"M17.41 7.96l-1.37-1.37c-.4-.4-.92-.59-1.43-.59-.52 0-1.04.2-1.43.59L10.3 9.45l-7.72 7.72c-.78.78-.78 2.05 0 2.83L4 21.41c.39.39.9.59 1.41.59.51 0 1.02-.2 1.41-.59l7.78-7.78 2.81-2.81c.8-.78.8-2.07 0-2.86zM5.41 20L4 18.59l7.72-7.72 1.47 1.35L5.41 20z\"/>\n",
              "  </svg>\n",
              "      </button>\n",
              "      \n",
              "  <style>\n",
              "    .colab-df-container {\n",
              "      display:flex;\n",
              "      flex-wrap:wrap;\n",
              "      gap: 12px;\n",
              "    }\n",
              "\n",
              "    .colab-df-convert {\n",
              "      background-color: #E8F0FE;\n",
              "      border: none;\n",
              "      border-radius: 50%;\n",
              "      cursor: pointer;\n",
              "      display: none;\n",
              "      fill: #1967D2;\n",
              "      height: 32px;\n",
              "      padding: 0 0 0 0;\n",
              "      width: 32px;\n",
              "    }\n",
              "\n",
              "    .colab-df-convert:hover {\n",
              "      background-color: #E2EBFA;\n",
              "      box-shadow: 0px 1px 2px rgba(60, 64, 67, 0.3), 0px 1px 3px 1px rgba(60, 64, 67, 0.15);\n",
              "      fill: #174EA6;\n",
              "    }\n",
              "\n",
              "    [theme=dark] .colab-df-convert {\n",
              "      background-color: #3B4455;\n",
              "      fill: #D2E3FC;\n",
              "    }\n",
              "\n",
              "    [theme=dark] .colab-df-convert:hover {\n",
              "      background-color: #434B5C;\n",
              "      box-shadow: 0px 1px 3px 1px rgba(0, 0, 0, 0.15);\n",
              "      filter: drop-shadow(0px 1px 2px rgba(0, 0, 0, 0.3));\n",
              "      fill: #FFFFFF;\n",
              "    }\n",
              "  </style>\n",
              "\n",
              "      <script>\n",
              "        const buttonEl =\n",
              "          document.querySelector('#df-b0a98221-5c04-45a5-9748-4f43f9b77f4b button.colab-df-convert');\n",
              "        buttonEl.style.display =\n",
              "          google.colab.kernel.accessAllowed ? 'block' : 'none';\n",
              "\n",
              "        async function convertToInteractive(key) {\n",
              "          const element = document.querySelector('#df-b0a98221-5c04-45a5-9748-4f43f9b77f4b');\n",
              "          const dataTable =\n",
              "            await google.colab.kernel.invokeFunction('convertToInteractive',\n",
              "                                                     [key], {});\n",
              "          if (!dataTable) return;\n",
              "\n",
              "          const docLinkHtml = 'Like what you see? Visit the ' +\n",
              "            '<a target=\"_blank\" href=https://colab.research.google.com/notebooks/data_table.ipynb>data table notebook</a>'\n",
              "            + ' to learn more about interactive tables.';\n",
              "          element.innerHTML = '';\n",
              "          dataTable['output_type'] = 'display_data';\n",
              "          await google.colab.output.renderOutput(dataTable, element);\n",
              "          const docLink = document.createElement('div');\n",
              "          docLink.innerHTML = docLinkHtml;\n",
              "          element.appendChild(docLink);\n",
              "        }\n",
              "      </script>\n",
              "    </div>\n",
              "  </div>\n",
              "  "
            ]
          },
          "metadata": {},
          "execution_count": 6
        }
      ]
    }
  ]
}