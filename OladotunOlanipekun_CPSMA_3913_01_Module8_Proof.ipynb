{
  "nbformat": 4,
  "nbformat_minor": 0,
  "metadata": {
    "colab": {
      "provenance": [],
      "authorship_tag": "ABX9TyPAK/ush0pHTHKH1QqUKgqx",
      "include_colab_link": true
    },
    "kernelspec": {
      "name": "python3",
      "display_name": "Python 3"
    },
    "language_info": {
      "name": "python"
    }
  },
  "cells": [
    {
      "cell_type": "markdown",
      "metadata": {
        "id": "view-in-github",
        "colab_type": "text"
      },
      "source": [
        "<a href=\"https://colab.research.google.com/github/OladotunOlanipekun/Discrete-Mathematics/blob/main/OladotunOlanipekun_CPSMA_3913_01_Module8_Proof.ipynb\" target=\"_parent\"><img src=\"https://colab.research.google.com/assets/colab-badge.svg\" alt=\"Open In Colab\"/></a>"
      ]
    },
    {
      "cell_type": "markdown",
      "source": [
        "# Project Part # 8:  CPSMA 3913 Dr. Lynam's Discrete Mathematics using [Dr. Jacob's](https://github.com/nurfnick) Discrete Mathematics github repository\n",
        "\n",
        "\n",
        "## Project Module 8: Proof\n",
        "\n",
        "### Oladotun Olanipekun 271479"
      ],
      "metadata": {
        "id": "PZi00JlZvziN"
      }
    },
    {
      "cell_type": "markdown",
      "source": [
        "\n",
        "I am going to rpove that the y- intercept for \n",
        "\n",
        "$y=7x -9$\n",
        "\n",
        "is $(0,-9)$\n"
      ],
      "metadata": {
        "id": "KHha9ORKwDLa"
      }
    },
    {
      "cell_type": "code",
      "execution_count": 17,
      "metadata": {
        "colab": {
          "base_uri": "https://localhost:8080/",
          "height": 265
        },
        "id": "K7dcgGmdvj02",
        "outputId": "a1237f74-cc3c-4a10-9ca5-e1f86f3087e3"
      },
      "outputs": [
        {
          "output_type": "display_data",
          "data": {
            "text/plain": [
              "<Figure size 432x288 with 1 Axes>"
            ],
            "image/png": "[encoded data removed]"
          },
          "metadata": {
            "needs_background": "light"
          }
        }
      ],
      "source": [
        "import matplotlib.pyplot as plt\n",
        "import numpy as np\n",
        "\n",
        "x = np.arange(-5,5,.1) \n",
        "\n",
        "plt.plot(x,7*x-9)\n",
        "plt.scatter(0,-9, c='blue',s = 50)\n",
        "plt.show()"
      ]
    },
    {
      "cell_type": "code",
      "source": [
        "-9 ==7*0-9"
      ],
      "metadata": {
        "colab": {
          "base_uri": "https://localhost:8080/"
        },
        "id": "tcdew6GS07GD",
        "outputId": "9189c331-64c2-46ba-d31e-8eb2be6c7573"
      },
      "execution_count": 19,
      "outputs": [
        {
          "output_type": "execute_result",
          "data": {
            "text/plain": [
              "True"
            ]
          },
          "metadata": {},
          "execution_count": 19
        }
      ]
    },
    {
      "cell_type": "markdown",
      "source": [
        "proven to be true, the y-intercept"
      ],
      "metadata": {
        "id": "VCOx6bzz1K9J"
      }
    },
    {
      "cell_type": "markdown",
      "source": [
        "Proof:\n",
        "\n",
        "To be the y-intercept of the function, is given by the statement $(0,b)$.  \n",
        "\n",
        "As you van see in thr graph when you look at when x = 0 that is where the y-intercept would be and as you can see where the dot is plotted that is where the y-intercept (0,-9) is.\n",
        "\n",
        "To be the y-intercept you start by finding what the value will be when you plot in 0 for the x value and what is left will end up being the y-intercept, which is where the function will hit y as it passes throuh x = 0 the way to solve for this would be  for exapmle my function $y=7(0)-9$ after doing the calculations you would be left with $y=-9$\n"
      ],
      "metadata": {
        "id": "crpVRqpUzdZt"
      }
    }
  ]
}