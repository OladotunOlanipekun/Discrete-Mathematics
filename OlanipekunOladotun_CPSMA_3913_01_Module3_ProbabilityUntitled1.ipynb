{
  "nbformat": 4,
  "nbformat_minor": 0,
  "metadata": {
    "colab": {
      "provenance": [],
      "authorship_tag": "ABX9TyNXmKYmvIWXCQfq58GlRH1s",
      "include_colab_link": true
    },
    "kernelspec": {
      "name": "python3",
      "display_name": "Python 3"
    },
    "language_info": {
      "name": "python"
    }
  },
  "cells": [
    {
      "cell_type": "markdown",
      "metadata": {
        "id": "view-in-github",
        "colab_type": "text"
      },
      "source": [
        "<a href=\"https://colab.research.google.com/github/OladotunOlanipekun/Discrete-Mathematics/blob/main/OlanipekunOladotun_CPSMA_3913_01_Module3_ProbabilityUntitled1.ipynb\" target=\"_parent\"><img src=\"https://colab.research.google.com/assets/colab-badge.svg\" alt=\"Open In Colab\"/></a>"
      ]
    },
    {
      "cell_type": "markdown",
      "source": [
        "# Project Part # 3: CPSMA 3913 Dr. Lynam's Discrete Mathematics \n",
        "\n",
        "## Project Module 3: Probability\n",
        "\n",
        "### Oladotun Olanipekun  271479"
      ],
      "metadata": {
        "id": "BfFjsYN0lU2d"
      }
    },
    {
      "cell_type": "markdown",
      "source": [
        "#1 Probability "
      ],
      "metadata": {
        "id": "TTwY9kTQl9wB"
      }
    },
    {
      "cell_type": "markdown",
      "source": [
        "##Create a sample space with three or more simple events. Assign a probability to each item. Show that the axioms of probability hold under this assignment.\n",
        "\n",
        "The sample space I will be using is the probobility of picking a certain chocolate out of a small basket of kingsize bars.\n",
        "\n",
        "**Kit-Kat:** 2/8\n",
        "\n",
        "**Twix:** 2/8\n",
        "\n",
        "**Hershey's:** 2/8\n",
        "\n",
        "**Reese's:** 2/8"
      ],
      "metadata": {
        "id": "vnkkoTUQmGQC"
      }
    },
    {
      "cell_type": "markdown",
      "source": [
        "https://fyf.tac-cdn.net/images/products/large/FYF-854.jpg"
      ],
      "metadata": {
        "id": "84SSVHwUp-wR"
      }
    },
    {
      "cell_type": "code",
      "source": [
        "p =[2/8,2/8,2/8,2/8]\n",
        "\n",
        "sum(p)"
      ],
      "metadata": {
        "colab": {
          "base_uri": "https://localhost:8080/"
        },
        "id": "mRDl9j8RvuYt",
        "outputId": "ca779dc5-5b0f-42df-9a2d-ac8e476d3a8b"
      },
      "execution_count": 1,
      "outputs": [
        {
          "output_type": "execute_result",
          "data": {
            "text/plain": [
              "1.0"
            ]
          },
          "metadata": {},
          "execution_count": 1
        }
      ]
    },
    {
      "cell_type": "markdown",
      "source": [
        "A **Compound Event** is the probability of more than one event occuring together.  \n",
        "**Example:** Picking up a Kit-Kat and then picking up another Kit-Kat without putting the first one back."
      ],
      "metadata": {
        "id": "55dOZfyawOVG"
      }
    },
    {
      "cell_type": "code",
      "source": [
        "p =[(2/8)*(1/8)]\n",
        "\n",
        "sum(p)\n"
      ],
      "metadata": {
        "colab": {
          "base_uri": "https://localhost:8080/"
        },
        "id": "bXnU_5dXxiH3",
        "outputId": "74a7f396-1c0d-4fb3-821f-f13dabf4ec2b"
      },
      "execution_count": 5,
      "outputs": [
        {
          "output_type": "execute_result",
          "data": {
            "text/plain": [
              "0.03125"
            ]
          },
          "metadata": {},
          "execution_count": 5
        }
      ]
    },
    {
      "cell_type": "markdown",
      "source": [
        "There is a .03 chance that I would pick up the Kit-Kat twice"
      ],
      "metadata": {
        "id": "_hE_gTz3xufR"
      }
    },
    {
      "cell_type": "markdown",
      "source": [
        "A ***Union*** can be the probability of getting a ***Reese's*** or an **Hershey's** when drawing a random card.\n",
        "\n",
        "$$ P(AorB)=P(A)+P(B)-P(AandB) $$\n",
        "\n",
        "$$ P(A ∪ B)=P(A)+P(B)-P(A ∩ B) $$\n",
        "\n",
        "P(Reese's) = 2/8\n",
        "\n",
        "P(Hershey's) = 2/8\n",
        "\n",
        "P(Reese'sandhershey's) = 4/64\n"
      ],
      "metadata": {
        "id": "oGhkEhB3x5gD"
      }
    },
    {
      "cell_type": "code",
      "source": [
        "p = {(2/8)+(2/8)-(4/64)}\n",
        "\n",
        "sum(p)"
      ],
      "metadata": {
        "colab": {
          "base_uri": "https://localhost:8080/"
        },
        "id": "Y4SEwZRs0Mvh",
        "outputId": "af72c4de-ecce-4496-9eb0-78d5826635b9"
      },
      "execution_count": 6,
      "outputs": [
        {
          "output_type": "execute_result",
          "data": {
            "text/plain": [
              "0.4375"
            ]
          },
          "metadata": {},
          "execution_count": 6
        }
      ]
    },
    {
      "cell_type": "markdown",
      "source": [
        "The chance of all of two or more events occurring is called the **intersection** of events.\n",
        "\n",
        "\n",
        "$$ P(AandB)=P(A)*P(B) $$\n",
        "\n",
        "$$ P(A ∩ B)=P(A)*P(B) $$\n",
        "\n",
        "P(Reese's) = 2/8\n",
        "\n",
        "P(Hershey's) = 2/8"
      ],
      "metadata": {
        "id": "vX3LG7L02FGm"
      }
    },
    {
      "cell_type": "code",
      "source": [
        "p = {(2/8) * (2/8)}\n",
        "\n",
        "sum(p)"
      ],
      "metadata": {
        "colab": {
          "base_uri": "https://localhost:8080/"
        },
        "id": "YT2vqiU-2Fbm",
        "outputId": "081fba35-5905-4f80-f02f-4fe9e133df81"
      },
      "execution_count": 7,
      "outputs": [
        {
          "output_type": "execute_result",
          "data": {
            "text/plain": [
              "0.0625"
            ]
          },
          "metadata": {},
          "execution_count": 7
        }
      ]
    },
    {
      "cell_type": "markdown",
      "source": [
        "I will need to Compute conditional probabilities\n",
        "\n",
        " I will apply **Bayes’ theorem** to verify my results."
      ],
      "metadata": {
        "id": "atQR_x8e3EQy"
      }
    },
    {
      "cell_type": "markdown",
      "source": [
        "$$\n",
        "P(Reese's|Hershey's)=\\frac{P(Reese's\\cap Hershey's)}{P(Hershey's)}\n",
        "$$"
      ],
      "metadata": {
        "id": "CBOYxsN84xjw"
      }
    },
    {
      "cell_type": "markdown",
      "source": [
        "***Apply Bayes Theorem***\n",
        "\n",
        "$$\n",
        "P(A|B) = \\frac{P(A)P(B|A)}{P(B)}\n",
        "$$"
      ],
      "metadata": {
        "id": "O_vlN2dE5K_h"
      }
    },
    {
      "cell_type": "code",
      "source": [
        "p = {(4/64)/(2/8)}\n",
        "\n",
        "sum(p)"
      ],
      "metadata": {
        "colab": {
          "base_uri": "https://localhost:8080/"
        },
        "id": "l_59ek974eK_",
        "outputId": "1c8b7cf9-8a80-4035-ac98-70a2cacdd79f"
      },
      "execution_count": 8,
      "outputs": [
        {
          "output_type": "execute_result",
          "data": {
            "text/plain": [
              "0.25"
            ]
          },
          "metadata": {},
          "execution_count": 8
        }
      ]
    },
    {
      "cell_type": "code",
      "source": [
        "p = {(2/8)*(0.25)/(2/8)} #Applied Bayes' Theorem to see if I would get the same answer.\n",
        "\n",
        "sum(p)"
      ],
      "metadata": {
        "colab": {
          "base_uri": "https://localhost:8080/"
        },
        "id": "BhEzS_Du5zPW",
        "outputId": "f6f7e69c-177c-4fdc-ec44-ba75af0735e4"
      },
      "execution_count": 10,
      "outputs": [
        {
          "output_type": "execute_result",
          "data": {
            "text/plain": [
              "0.25"
            ]
          },
          "metadata": {},
          "execution_count": 10
        }
      ]
    },
    {
      "cell_type": "markdown",
      "source": [
        "$$\n",
        "P(A|B)=\\frac{P(A\\cap B)}{P(B)}\n",
        "$$\n",
        "\n",
        "$$\n",
        "P(Reese's|Hershey's)=\\frac{P(Reese's\\cap Hershey's)}{P(hershey's)}\n",
        "$$"
      ],
      "metadata": {
        "id": "4LxPIuzy7a7n"
      }
    },
    {
      "cell_type": "code",
      "source": [
        "p = {(4/64)/(2/8)}\n",
        "\n",
        "sum(p)"
      ],
      "metadata": {
        "colab": {
          "base_uri": "https://localhost:8080/"
        },
        "id": "8uhjplIN7bpX",
        "outputId": "25cdfca0-cc81-426a-8dcc-9a64ce5948f5"
      },
      "execution_count": 11,
      "outputs": [
        {
          "output_type": "execute_result",
          "data": {
            "text/plain": [
              "0.25"
            ]
          },
          "metadata": {},
          "execution_count": 11
        }
      ]
    },
    {
      "cell_type": "code",
      "source": [
        "p = {(2/8)*(0.25)/(2/8)} #Applied Bayes' Theorem to see if I would get the same answer.\n",
        "\n",
        "sum(p)"
      ],
      "metadata": {
        "colab": {
          "base_uri": "https://localhost:8080/"
        },
        "id": "9IurV_I98RrA",
        "outputId": "2c9ff476-fb28-481f-b4c5-b785aa1674af"
      },
      "execution_count": 12,
      "outputs": [
        {
          "output_type": "execute_result",
          "data": {
            "text/plain": [
              "0.25"
            ]
          },
          "metadata": {},
          "execution_count": 12
        }
      ]
    },
    {
      "cell_type": "markdown",
      "source": [
        "To find probability of the complement of an event you would have to do one minus the probability of the event, and that will give you the complement\n",
        "\n",
        "Complement:\n",
        "\n",
        "$$ P(A^C)=1-P(A) $$"
      ],
      "metadata": {
        "id": "rD9G4eIj8WPq"
      }
    },
    {
      "cell_type": "code",
      "source": [
        "c = {1-0.03125} \n",
        "\n",
        "sum(c)"
      ],
      "metadata": {
        "colab": {
          "base_uri": "https://localhost:8080/"
        },
        "id": "OJQ-77t_85wn",
        "outputId": "aa3395f2-e141-4e26-c36f-09fe683eaefd"
      },
      "execution_count": 13,
      "outputs": [
        {
          "output_type": "execute_result",
          "data": {
            "text/plain": [
              "0.96875"
            ]
          },
          "metadata": {},
          "execution_count": 13
        }
      ]
    },
    {
      "cell_type": "markdown",
      "source": [
        "Now for the **Simulation**"
      ],
      "metadata": {
        "id": "tRz2En8i9Ecl"
      }
    },
    {
      "cell_type": "code",
      "source": [
        "s10 = [10*i for i in p]\n",
        "p = [2/8,2/8,2/8,2/8]"
      ],
      "metadata": {
        "id": "fIhxra0f92HV"
      },
      "execution_count": 14,
      "outputs": []
    },
    {
      "cell_type": "code",
      "source": [
        "s10"
      ],
      "metadata": {
        "colab": {
          "base_uri": "https://localhost:8080/"
        },
        "id": "abkZwNT599zY",
        "outputId": "4ee64616-9edf-4e2d-e795-ffcda3865a85"
      },
      "execution_count": 15,
      "outputs": [
        {
          "output_type": "execute_result",
          "data": {
            "text/plain": [
              "[2.5]"
            ]
          },
          "metadata": {},
          "execution_count": 15
        }
      ]
    },
    {
      "cell_type": "code",
      "source": [
        "from random import choices\n",
        "\n",
        "choices(['Kit-Kat','Twix','Hersheys','Reeses'],k=10)"
      ],
      "metadata": {
        "colab": {
          "base_uri": "https://localhost:8080/"
        },
        "id": "oL3pICX6-LOD",
        "outputId": "5f9d6677-261f-493d-87b4-c526b90ae5fa"
      },
      "execution_count": 16,
      "outputs": [
        {
          "output_type": "execute_result",
          "data": {
            "text/plain": [
              "['Reeses',\n",
              " 'Reeses',\n",
              " 'Kit-Kat',\n",
              " 'Kit-Kat',\n",
              " 'Kit-Kat',\n",
              " 'Kit-Kat',\n",
              " 'Kit-Kat',\n",
              " 'Reeses',\n",
              " 'Hersheys',\n",
              " 'Kit-Kat']"
            ]
          },
          "metadata": {},
          "execution_count": 16
        }
      ]
    },
    {
      "cell_type": "markdown",
      "source": [
        "It looks like Kit-Kat's would most likely be picked the most, which is good because its my favorite chocolate"
      ],
      "metadata": {
        "id": "7SlGzxRd-_2O"
      }
    },
    {
      "cell_type": "code",
      "source": [
        "chocolate =  choices(['Kit','Twix','Hersheys','Reeses'],k=10)\n",
        "\n",
        "countKit = 0\n",
        "countTwix = 0\n",
        "countHersheys = 0\n",
        "countReeses = 0\n",
        "\n",
        "for i in chocolate:\n",
        "  if i == 'Kit':\n",
        "    countKit += 1\n",
        "  elif i == 'Twix':\n",
        "    countTwix += 1\n",
        "  elif i == 'Hersheys':\n",
        "    countHersheys += 1   \n",
        "  elif i == 'Reeses':\n",
        "    countReeses += 1\n",
        "\n",
        "estimateProbs = [countKit/len(chocolate),countTwix/len(chocolate),countHersheys/len(chocolate),countReeses/len(chocolate)]"
      ],
      "metadata": {
        "id": "1AUkUCel_azV"
      },
      "execution_count": 23,
      "outputs": []
    },
    {
      "cell_type": "code",
      "source": [
        "estimateProbs "
      ],
      "metadata": {
        "colab": {
          "base_uri": "https://localhost:8080/"
        },
        "id": "U3SmrLqpBuZn",
        "outputId": "6dd4d60e-9f1b-4832-f035-df9442edbdad"
      },
      "execution_count": 24,
      "outputs": [
        {
          "output_type": "execute_result",
          "data": {
            "text/plain": [
              "[0.2, 0.2, 0.4, 0.2]"
            ]
          },
          "metadata": {},
          "execution_count": 24
        }
      ]
    },
    {
      "cell_type": "markdown",
      "source": [
        "Here it shows a different probability of the most picked candy to be Hershesy's which is also a good candy but can not say that it is my favorite. I would much more likely have the first probability than this one."
      ],
      "metadata": {
        "id": "Femve5yjB_p4"
      }
    }
  ]
}